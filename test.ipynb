{
 "cells": [
  {
   "cell_type": "code",
   "execution_count": 1,
   "metadata": {},
   "outputs": [],
   "source": [
    "import torch\n",
    "import torch.nn as nn\n",
    "import torch.nn.functional as F"
   ]
  },
  {
   "cell_type": "code",
   "execution_count": 2,
   "metadata": {},
   "outputs": [],
   "source": [
    "device = torch.device(\"cuda\" if torch.cuda.is_available() else \"cpu\")"
   ]
  },
  {
   "cell_type": "code",
   "execution_count": 3,
   "metadata": {},
   "outputs": [],
   "source": [
    "class RLAgent(nn.Module):\n",
    "    def __init__(self):\n",
    "        super(RLAgent, self).__init__()\n",
    "\n",
    "        self.E_s_input = nn.Sequential(\n",
    "            nn.Linear(512, 512),\n",
    "            nn.ReLU(),\n",
    "            nn.Linear(512, 512),\n",
    "        )\n",
    "\n",
    "        self.E_s_bbox = nn.Sequential(\n",
    "            nn.Linear(2048, 512),\n",
    "            nn.ReLU(),\n",
    "            nn.Linear(512, 512),\n",
    "        )\n",
    "\n",
    "        self.E_r_input = nn.Sequential(\n",
    "            nn.Linear(512, 512),\n",
    "            nn.ReLU(),\n",
    "            nn.Linear(512, 512),\n",
    "        )\n",
    "\n",
    "        self.E_r_bbox = nn.Sequential(\n",
    "            nn.Linear(2048, 512),\n",
    "            nn.ReLU(),\n",
    "            nn.Linear(512, 512),\n",
    "        )\n",
    "\n",
    "        self.E_remained = nn.Sequential(\n",
    "            nn.Linear(512, 512),\n",
    "            nn.ReLU(),\n",
    "            nn.Linear(512, 512),\n",
    "        )\n",
    "\n",
    "        self.step_processor = nn.Sequential(\n",
    "            nn.Linear(1, 128),\n",
    "            nn.ReLU(),\n",
    "            nn.Linear(128, 128),\n",
    "            nn.ReLU(),\n",
    "            nn.Linear(128, 512)\n",
    "        )\n",
    "\n",
    "        self.fc1 = nn.Linear(512, 512)\n",
    "        self.fc2 = nn.Linear(512, 512)\n",
    "\n",
    "    def forward(self, state, step):\n",
    "        selected_input_ids = state[\"selected_input_ids\"].float().to(device)\n",
    "        selected_bbox = state[\"selected_bbox\"].float().to(device)\n",
    "        remain_input_ids = state[\"remain_input_ids\"].float().to(device)\n",
    "        remain_bbox = state[\"remain_bbox\"].float().to(device)\n",
    "\n",
    "        selected = self.E_s_input(selected_input_ids) + self.E_s_bbox(selected_bbox.view(-1))\n",
    "        remained = self.E_r_input(remain_input_ids) + self.E_r_bbox(remain_bbox.view(-1))\n",
    "        v = self.E_remained(remained)\n",
    "\n",
    "        selected = selected.unsqueeze(1)\n",
    "        remained = remained.unsqueeze(1)\n",
    "\n",
    "        attn_logits = torch.matmul(selected, remained.transpose(-2, -1))\n",
    "        attention = F.softmax(attn_logits, dim=-1)\n",
    "\n",
    "        score = torch.matmul(attention, v).squeeze()\n",
    "\n",
    "        step_tensor = torch.tensor([step], dtype=torch.float32, device=score.device).view(-1, 1)\n",
    "        step_output = self.step_processor(step_tensor)\n",
    "\n",
    "        combined = score + step_output\n",
    "\n",
    "        x = torch.relu(self.fc1(combined))\n",
    "        return self.fc2(x)"
   ]
  },
  {
   "cell_type": "code",
   "execution_count": 4,
   "metadata": {},
   "outputs": [],
   "source": [
    "agent = RLAgent().to(device)"
   ]
  }
 ],
 "metadata": {
  "kernelspec": {
   "display_name": "nlp",
   "language": "python",
   "name": "python3"
  },
  "language_info": {
   "codemirror_mode": {
    "name": "ipython",
    "version": 3
   },
   "file_extension": ".py",
   "mimetype": "text/x-python",
   "name": "python",
   "nbconvert_exporter": "python",
   "pygments_lexer": "ipython3",
   "version": "3.1.undefined"
  }
 },
 "nbformat": 4,
 "nbformat_minor": 2
}
