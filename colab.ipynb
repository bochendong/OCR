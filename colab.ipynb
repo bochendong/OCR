{
 "cells": [
  {
   "cell_type": "code",
   "execution_count": null,
   "metadata": {},
   "outputs": [],
   "source": [
    "! pip install -q datasets seqeval"
   ]
  },
  {
   "cell_type": "code",
   "execution_count": null,
   "metadata": {},
   "outputs": [],
   "source": [
    "! python -m pip install 'git+https://github.com/facebookresearch/detectron2.git'"
   ]
  },
  {
   "cell_type": "code",
   "execution_count": null,
   "metadata": {},
   "outputs": [],
   "source": [
    "! huggingface-cli login"
   ]
  },
  {
   "cell_type": "code",
   "execution_count": null,
   "metadata": {},
   "outputs": [],
   "source": [
    "import os\n",
    "import torch\n",
    "import torch.nn as nn\n",
    "\n",
    "from Code.DataSet.DataPreprocess import DataPreprocessor\n",
    "from Code.RLAgent.Agent import Q_LearningAgent\n",
    "from Code.RLAgent.Train import train_rl_agent\n",
    "from Code.RLAgent.Eval import EvalRlAgent\n",
    "from Code.Environment.Environment import Env\n",
    "from Code.Utils.GetBaseModel import getBaseModel\n",
    "from Code.Utils.Logging import SetupLogging\n",
    "from Code.Utils.Performance import Performance\n"
   ]
  },
  {
   "cell_type": "code",
   "execution_count": null,
   "metadata": {},
   "outputs": [],
   "source": [
    "def main(learning_rate=1e-6, gamma=0.99, action_length = 32, epoches = 5, reward = \"normal\", slow_start = True):\n",
    "    Dir_PATH = f'./Log/action_length={action_length}_lr_{learning_rate}_reward={reward}_slow_start={slow_start}'\n",
    "\n",
    "    if (os.path.exists(Dir_PATH) == False):\n",
    "        os.mkdir(Dir_PATH)\n",
    "\n",
    "    SetupLogging(Dir_PATH + \"/log.txt\")\n",
    "\n",
    "    device = torch.device(\"cuda\" if torch.cuda.is_available() else \"cpu\")\n",
    "\n",
    "    funsd = DataPreprocessor()\n",
    "\n",
    "    train_loader, test_loader = funsd.GetDataLoader()\n",
    "\n",
    "    model = getBaseModel(funsd.id2label, funsd.label2id).to(device)\n",
    "    f1_cal = Performance(funsd.id2label)\n",
    "    env = Env(model, device)\n",
    "\n",
    "    criterion = nn.SmoothL1Loss()\n",
    "    agent = Q_LearningAgent(action_length, device, criterion, \n",
    "                            learning_rate=learning_rate, gamma = gamma, slow_start = slow_start)\n",
    "\n",
    "    train_rl_agent(agent, env, train_loader, action_length, path = Dir_PATH, epoches = epoches)\n",
    "\n",
    "    f1_score = EvalRlAgent(agent, env, test_loader, action_length, f1_cal)\n",
    "\n",
    "    print(f\"test_f1_score: {f1_score}\")"
   ]
  },
  {
   "cell_type": "code",
   "execution_count": null,
   "metadata": {},
   "outputs": [],
   "source": [
    "learning_rate=1e-5\n",
    "gamma=0.99\n",
    "action_length = 32\n",
    "epoch = 5\n",
    "reward = \"normal\"\n",
    "slow_start = True\n",
    "\n",
    "main(learning_rate, gamma, action_length, epoch, reward, slow_start)"
   ]
  },
  {
   "cell_type": "code",
   "execution_count": null,
   "metadata": {},
   "outputs": [],
   "source": [
    "learning_rate=1e-6\n",
    "gamma=0.99\n",
    "action_length = 32\n",
    "epoch = 5\n",
    "reward = \"normal\"\n",
    "slow_start = True\n",
    "\n",
    "main(learning_rate, gamma, action_length, epoch, reward, slow_start)"
   ]
  },
  {
   "cell_type": "code",
   "execution_count": null,
   "metadata": {},
   "outputs": [],
   "source": [
    "learning_rate=1e-6\n",
    "gamma=0.99\n",
    "action_length = 16\n",
    "epoch = 5\n",
    "reward = \"normal\"\n",
    "slow_start = True\n",
    "\n",
    "main(learning_rate, gamma, action_length, epoch, reward, slow_start)"
   ]
  }
 ],
 "metadata": {
  "language_info": {
   "name": "python"
  }
 },
 "nbformat": 4,
 "nbformat_minor": 2
}
